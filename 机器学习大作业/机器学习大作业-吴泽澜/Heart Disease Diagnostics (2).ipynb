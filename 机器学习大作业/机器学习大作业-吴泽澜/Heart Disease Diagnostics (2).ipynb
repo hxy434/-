{
 "cells": [
  {
   "cell_type": "markdown",
   "metadata": {},
   "source": [
    "# 机器学习大作业：基于多种降维方法的心脏病诊断算法研究\n",
    "## 概况：\n",
    "## 八种机器学习模型（逻辑回归、决策树、随机森林、KNN、NB、SVM、XGBoost、LightGBM）\n",
    "## 四种降维可视化方法（PCA、NCA、UMAP、t-SNE）\n",
    "## 尝试与展望：神经网络/深度学习（MLP、CNN…)\n",
    "## From：吴泽澜-2023217454"
   ]
  },
  {
   "cell_type": "markdown",
   "metadata": {
    "collapsed": false,
    "jupyter": {
     "outputs_hidden": false
    }
   },
   "source": [
    "#### 调用必要的包"
   ]
  },
  {
   "cell_type": "markdown",
   "metadata": {
    "collapsed": false,
    "jupyter": {
     "outputs_hidden": false
    }
   },
   "source": [
    "### 尝试与展望（神经网络/深度学习）\n",
    "#### 数据集准备"
   ]
  },
  {
   "cell_type": "code",
   "execution_count": 198,
   "metadata": {
    "collapsed": false,
    "jupyter": {
     "outputs_hidden": false
    }
   },
   "outputs": [],
   "source": [
    "# 将数据重塑为适合 1D CNN 的形状\n",
    "X_cnn = X.reshape(X.shape[0], X.shape[1], 1)\n",
    "# 划分数据集\n",
    "X_cnn_train, X_cnn_test, y_cnn_train, y_cnn_test = train_test_split(X_cnn, y, test_size=0.3, random_state=42)"
   ]
  },
  {
   "cell_type": "markdown",
   "metadata": {
    "collapsed": false,
    "jupyter": {
     "outputs_hidden": false
    }
   },
   "source": [
    "#### 定义神经网络模型（MLP和CNN并尝试多种神经网络）"
   ]
  },
  {
   "cell_type": "code",
   "execution_count": 199,
   "metadata": {
    "collapsed": false,
    "jupyter": {
     "outputs_hidden": false
    }
   },
   "outputs": [],
   "source": [
    "\n",
    "# 定义 MLP 模型\n",
    "def create_mlp_model(input_dim):\n",
    "    model = Sequential([\n",
    "        Dense(128, activation='relu', input_shape=(input_dim,)),\n",
    "        Dropout(0.2),\n",
    "        Dense(64, activation='relu'),\n",
    "        Dropout(0.2),\n",
    "        Dense(1, activation='sigmoid')\n",
    "    ])\n",
    "    model.compile(optimizer=Adam(learning_rate=0.001), loss='binary_crossentropy', metrics=['accuracy'])\n",
    "    return model\n",
    "\n",
    "# 定义 CNN 模型\n",
    "def create_cnn_model(input_dim):\n",
    "    model = Sequential([\n",
    "        Reshape((input_dim, 1), input_shape=(input_dim,)),\n",
    "        Conv1D(32, 3, activation='relu'),\n",
    "        MaxPooling1D(2),\n",
    "        Conv1D(64, 3, activation='relu'),\n",
    "        MaxPooling1D(2),\n",
    "        Flatten(),\n",
    "        Dense(128, activation='relu'),\n",
    "        Dropout(0.2),\n",
    "        Dense(1, activation='sigmoid')\n",
    "    ])\n",
    "    model.compile(optimizer=Adam(learning_rate=0.001), loss='binary_crossentropy', metrics=['accuracy'])\n",
    "    return model\n",
    "\n",
    "# 定义神经网络模型创建函数\n",
    "def create_model_1(input_dim):\n",
    "    model = Sequential([\n",
    "        Dense(50, activation='relu', input_shape=(input_dim,)),\n",
    "        Dropout(0.2),\n",
    "        Dense(40, activation='relu'),\n",
    "        Dropout(0.2),\n",
    "        Dense(30, activation='relu'),\n",
    "        Dropout(0.2),\n",
    "        Dense(20, activation='relu'),\n",
    "        Dropout(0.2),\n",
    "        Dense(1, activation='sigmoid')\n",
    "    ])\n",
    "    model.compile(optimizer=Adam(learning_rate=0.001), loss='binary_crossentropy', metrics=['accuracy'])\n",
    "    return model\n",
    "\n",
    "def create_model_2(input_dim):\n",
    "    model = Sequential([\n",
    "        Dense(300, activation='relu', input_shape=(input_dim,)),\n",
    "        Dropout(0.2),\n",
    "        Dense(100, activation='relu'),\n",
    "        Dropout(0.2),\n",
    "        Dense(1, activation='sigmoid')\n",
    "    ])\n",
    "    model.compile(optimizer=Adam(learning_rate=0.001), loss='binary_crossentropy', metrics=['accuracy'])\n",
    "    return model\n",
    "\n",
    "def create_model_3(input_dim):\n",
    "    model = Sequential([\n",
    "        Dense(50, activation='relu', input_shape=(input_dim,)),\n",
    "        Dropout(0.2),\n",
    "        Dense(20, activation='relu'),\n",
    "        Dropout(0.2),\n",
    "        Dense(1, activation='sigmoid')\n",
    "    ])\n",
    "    model.compile(optimizer=Adam(learning_rate=0.001), loss='binary_crossentropy', metrics=['accuracy'])\n",
    "    return model\n",
    "\n",
    "def create_model_4(input_dim):\n",
    "    model = Sequential([\n",
    "        Dense(50, activation='relu', input_shape=(input_dim,)),\n",
    "        Dropout(0.2),\n",
    "        Dense(50, activation='relu'),\n",
    "        Dropout(0.2),\n",
    "        Dense(50, activation='relu'),\n",
    "        Dropout(0.2),\n",
    "        Dense(40, activation='relu'),\n",
    "        Dropout(0.2),\n",
    "        Dense(40, activation='relu'),\n",
    "        Dropout(0.2),\n",
    "        Dense(30, activation='relu'),\n",
    "        Dropout(0.2),\n",
    "        Dense(20, activation='relu'),\n",
    "        Dropout(0.2),\n",
    "        Dense(1, activation='sigmoid')\n",
    "    ])\n",
    "    model.compile(optimizer=Adam(learning_rate=0.001), loss='binary_crossentropy', metrics=['accuracy'])\n",
    "    return model"
   ]
  },
  {
   "cell_type": "markdown",
   "metadata": {
    "collapsed": false,
    "jupyter": {
     "outputs_hidden": false
    }
   },
   "source": [
    "#### 神经网络模型效果评估"
   ]
  },
  {
   "cell_type": "code",
   "execution_count": 218,
   "metadata": {
    "collapsed": false,
    "jupyter": {
     "outputs_hidden": false
    }
   },
   "outputs": [
    {
     "name": "stdout",
     "output_type": "stream",
     "text": [
      "MLP: Mean accuracy=0.9819, Std=0.0153\n",
      "CNN: Mean accuracy=0.9791, Std=0.0143\n",
      "NN_Model_1: Mean accuracy=0.9721, Std=0.0216\n",
      "NN_Model_2: Mean accuracy=0.9819, Std=0.0140\n",
      "NN_Model_3: Mean accuracy=0.9666, Std=0.0217\n",
      "NN_Model_4: Mean accuracy=0.9819, Std=0.0153\n"
     ]
    }
   ],
   "source": [
    "# 进行十倍交叉验证\n",
    "def evaluate_nn_models(X, y, model_fn):\n",
    "    skf = StratifiedKFold(n_splits=10, shuffle=True, random_state=42)\n",
    "    accuracy_scores = []\n",
    "\n",
    "    for train_index, val_index in skf.split(X, y):\n",
    "        X_train_fold, X_val_fold = X[train_index], X[val_index]\n",
    "        y_train_fold, y_val_fold = y[train_index], y[val_index]\n",
    "\n",
    "        # 构建和训练模型\n",
    "        model = model_fn(X_train_fold.shape[1])\n",
    "        model.fit(X_train_fold, y_train_fold, epochs=100, batch_size=10, verbose=0)\n",
    "\n",
    "        # 评估模型\n",
    "        score = model.evaluate(X_val_fold, y_val_fold, verbose=0)[1]\n",
    "        accuracy_scores.append(score)\n",
    "\n",
    "    mean_accuracy = np.mean(accuracy_scores)\n",
    "    std_accuracy = np.std(accuracy_scores)\n",
    "    return mean_accuracy, std_accuracy\n",
    "\n",
    "# 定义神经网络模型\n",
    "nn_models = {\n",
    "    'MLP': create_mlp_model,\n",
    "    'CNN': create_cnn_model,\n",
    "    'NN_Model_1': create_model_1,\n",
    "    'NN_Model_2': create_model_2,\n",
    "    'NN_Model_3': create_model_3,\n",
    "    'NN_Model_4': create_model_4\n",
    "}\n",
    "\n",
    "# 评估神经网络模型\n",
    "results_nn = {}\n",
    "for name, model_fn in nn_models.items():\n",
    "    mean_accuracy, std_accuracy = evaluate_nn_models(X_train, y_train, model_fn)\n",
    "    results_nn[name] = (mean_accuracy, std_accuracy)\n",
    "    print(f\"{name}: Mean accuracy={mean_accuracy:.4f}, Std={std_accuracy:.4f}\")"
   ]
  }
 ],
 "metadata": {
  "kaggle": {
   "accelerator": "none",
   "dataSources": [
    {
     "datasetId": 216167,
     "sourceId": 477177,
     "sourceType": "datasetVersion"
    }
   ],
   "dockerImageVersionId": 30684,
   "isGpuEnabled": false,
   "isInternetEnabled": false,
   "language": "python",
   "sourceType": "notebook"
  },
  "kernelspec": {
   "display_name": "Python 3 (ipykernel)",
   "language": "python",
   "name": "python3"
  },
  "language_info": {
   "codemirror_mode": {
    "name": "ipython",
    "version": 3
   },
   "file_extension": ".py",
   "mimetype": "text/x-python",
   "name": "python",
   "nbconvert_exporter": "python",
   "pygments_lexer": "ipython3",
   "version": "3.12.7"
  }
 },
 "nbformat": 4,
 "nbformat_minor": 4
}
